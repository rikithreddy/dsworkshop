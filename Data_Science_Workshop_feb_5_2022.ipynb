{
  "nbformat": 4,
  "nbformat_minor": 0,
  "metadata": {
    "colab": {
      "name": "Data Science Workshop.ipynb",
      "provenance": [],
      "collapsed_sections": [],
      "authorship_tag": "ABX9TyNrxQLW91arVXBWrflNx+js",
      "include_colab_link": true
    },
    "kernelspec": {
      "name": "python3",
      "display_name": "Python 3"
    },
    "language_info": {
      "name": "python"
    }
  },
  "cells": [
    {
      "cell_type": "markdown",
      "metadata": {
        "id": "view-in-github",
        "colab_type": "text"
      },
      "source": [
        "<a href=\"https://colab.research.google.com/github/rikithreddy/dsworkshop/blob/main/Data_Science_Workshop_feb_5_2022.ipynb\" target=\"_parent\"><img src=\"https://colab.research.google.com/assets/colab-badge.svg\" alt=\"Open In Colab\"/></a>"
      ]
    },
    {
      "cell_type": "markdown",
      "source": [
        "# Welcome to google colab\n",
        "\n",
        "Some interesting features:\n",
        "* Comment and Share it really quick!\n",
        "* Free resources!\n",
        "* Mounting gdrive to access your files!\n",
        "* Text and code in the same place!\n",
        "\n",
        "\n",
        "---\n",
        "\n"
      ],
      "metadata": {
        "id": "TLQPkLAawIdm"
      }
    },
    {
      "cell_type": "markdown",
      "source": [
        "# Basics of google colab"
      ],
      "metadata": {
        "id": "1Jls91ik1y4o"
      }
    },
    {
      "cell_type": "markdown",
      "source": [
        "## Text and code cells?\n",
        "**This is a text cell**\n",
        "\n",
        "Hello whats up\n",
        "\n",
        "```python\n",
        "a = 1\n",
        "print(1)\n",
        "```"
      ],
      "metadata": {
        "id": "TmATzO7pxnpq"
      }
    },
    {
      "cell_type": "code",
      "source": [
        "# This is a code cell\n",
        "a = 1\n",
        "print(a)"
      ],
      "metadata": {
        "id": "W2AcKnbAxToB"
      },
      "execution_count": null,
      "outputs": []
    },
    {
      "cell_type": "markdown",
      "source": [
        "## Prints are not needed in most of the cases"
      ],
      "metadata": {
        "id": "qY6g9qqj1dkM"
      }
    },
    {
      "cell_type": "code",
      "source": [
        "print(1)"
      ],
      "metadata": {
        "id": "ugIAjW4v1bTJ"
      },
      "execution_count": null,
      "outputs": []
    },
    {
      "cell_type": "markdown",
      "source": [
        "## Try it yourself\n",
        "Write some basic python code and get a feel of your notebook."
      ],
      "metadata": {
        "id": "Q5R_-5lfySlx"
      }
    },
    {
      "cell_type": "code",
      "source": [
        "# Write some python code here :)\n",
        "a = 1\n",
        "b = 1\n",
        "a+b"
      ],
      "metadata": {
        "id": "VpsZDu69yYpK"
      },
      "execution_count": null,
      "outputs": []
    },
    {
      "cell_type": "code",
      "source": [
        "b = 2\n",
        "print(b)"
      ],
      "metadata": {
        "id": "tCL9rVL6z0gE"
      },
      "execution_count": null,
      "outputs": []
    },
    {
      "cell_type": "markdown",
      "source": [
        "## Pro Tip\n",
        "Sticking to good practices, always run cells in order."
      ],
      "metadata": {
        "id": "G58BLvtZyrFt"
      }
    },
    {
      "cell_type": "markdown",
      "source": [
        "# Data & Python!\n",
        "```\n",
        "What is data?\n",
        "Where is data?\n",
        "Who is data?\n",
        "```\n",
        "\n",
        "* Spreadsheets\n",
        "* API calls\n",
        "* JSON files\n",
        "* CSV files\n",
        "* YAML files\n",
        "* SQL database\n",
        "\n",
        "\n",
        "## That's ok but how do I get this data to python?\n",
        "\n",
        "Using **pandas**\n",
        "\n",
        "![pandas](http://4.bp.blogspot.com/-JYiKvzQgg4g/UQFnLfJR6UI/AAAAAAAAEVU/EnPgdxrRHXs/s1600/Panda-info-and+images+07.jpg)"
      ],
      "metadata": {
        "id": "XDK9yyKA3YkX"
      }
    },
    {
      "cell_type": "markdown",
      "source": [
        "## Pandas\n",
        "\n",
        "### Official definition\n",
        "```\n",
        "Pandas is a fast, powerful, flexible and easy to use open source data analysis and manipulation tool,\n",
        "built on top of the Python programming language.\n",
        "```\n",
        "\n",
        "### Layman's definition\n",
        "```\n",
        "Python object which can perform everything your Excel spreadsheet can.\n",
        "```\n",
        "\n",
        "## Code examples\n",
        "\n",
        "Let's load this data\n",
        "\n",
        "https://raw.githubusercontent.com/PyDataPune/Code-and-Coffee-2/master/matches.csv\n",
        "\n",
        "**Data Credits**: [Mayank Mishra](https://github.com/mayankskb) (*pydata:Pune*)"
      ],
      "metadata": {
        "id": "eKcknoOi2f-L"
      }
    },
    {
      "cell_type": "code",
      "source": [
        "import pandas as pd\n",
        "\n",
        "df = pd.read_csv(\"https://raw.githubusercontent.com/PyDataPune/Code-and-Coffee-2/master/matches.csv\")\n",
        "df"
      ],
      "metadata": {
        "id": "K5qExmIm2j5a"
      },
      "execution_count": null,
      "outputs": []
    },
    {
      "cell_type": "markdown",
      "source": [
        "# Head and Tail functions"
      ],
      "metadata": {
        "id": "RILJLvIkOina"
      }
    },
    {
      "cell_type": "code",
      "source": [
        "df.head(1)"
      ],
      "metadata": {
        "id": "D8_ZZ5a8Olcr"
      },
      "execution_count": null,
      "outputs": []
    },
    {
      "cell_type": "code",
      "source": [
        "df.tail(3)"
      ],
      "metadata": {
        "id": "16T_jr884TR7"
      },
      "execution_count": null,
      "outputs": []
    },
    {
      "cell_type": "markdown",
      "source": [
        "### Do it yourself\n",
        "\n",
        "Get first 0 rows"
      ],
      "metadata": {
        "id": "oC0AD61JO1O2"
      }
    },
    {
      "cell_type": "code",
      "source": [
        ""
      ],
      "metadata": {
        "id": "lCsQlrU8O8xI"
      },
      "execution_count": null,
      "outputs": []
    },
    {
      "cell_type": "markdown",
      "source": [
        "Get last 747 rows\n",
        "Note the dataframe just has 746 rows"
      ],
      "metadata": {
        "id": "Nxy-5oWoPAtQ"
      }
    },
    {
      "cell_type": "code",
      "source": [
        ""
      ],
      "metadata": {
        "id": "aW6U4W4_PADY"
      },
      "execution_count": null,
      "outputs": []
    },
    {
      "cell_type": "markdown",
      "source": [
        "Try to get 3,4,5 rows using head and tail"
      ],
      "metadata": {
        "id": "HJgga4lg5TdS"
      }
    },
    {
      "cell_type": "code",
      "source": [
        ""
      ],
      "metadata": {
        "id": "jakIpCS75pFk"
      },
      "execution_count": null,
      "outputs": []
    },
    {
      "cell_type": "markdown",
      "source": [
        "## Good practice\n",
        "\n",
        "Chaining!"
      ],
      "metadata": {
        "id": "PzBe7D2e59Dj"
      }
    },
    {
      "cell_type": "code",
      "source": [
        "tdf = df.head(100)\n",
        "tdf = tdf.tail(30)\n",
        "tdf = tdf.head(2)\n",
        "tdf"
      ],
      "metadata": {
        "id": "XkHVC0T-6hYK"
      },
      "execution_count": null,
      "outputs": []
    },
    {
      "cell_type": "code",
      "source": [
        "(\n",
        "  df\n",
        "    .head(100)\n",
        "    .tail(50)\n",
        "    .head(2)\n",
        ")"
      ],
      "metadata": {
        "id": "nQvaB7cH6q3Q"
      },
      "execution_count": null,
      "outputs": []
    },
    {
      "cell_type": "markdown",
      "source": [
        "## Basic exploration"
      ],
      "metadata": {
        "id": "NRkrYrN8NjhE"
      }
    },
    {
      "cell_type": "code",
      "source": [
        "df.describe()"
      ],
      "metadata": {
        "id": "orFQJr69NwIi"
      },
      "execution_count": null,
      "outputs": []
    },
    {
      "cell_type": "markdown",
      "source": [
        "## Counting matches"
      ],
      "metadata": {
        "id": "T1iGBTHkTB3y"
      }
    },
    {
      "cell_type": "code",
      "source": [
        "df.result.unique()"
      ],
      "metadata": {
        "id": "nq-_CpXtSgtI"
      },
      "execution_count": null,
      "outputs": []
    },
    {
      "cell_type": "code",
      "source": [
        "df.result.value_counts()"
      ],
      "metadata": {
        "id": "GLFJ3X0uSs4p"
      },
      "execution_count": null,
      "outputs": []
    },
    {
      "cell_type": "markdown",
      "source": [
        "## Your turn\n",
        "\n",
        "* What are the unique values of `toss_decision`"
      ],
      "metadata": {
        "id": "aKNaCQ7iUHaE"
      }
    },
    {
      "cell_type": "code",
      "source": [
        ""
      ],
      "metadata": {
        "id": "jMIxjnP3UM9_"
      },
      "execution_count": null,
      "outputs": []
    },
    {
      "cell_type": "markdown",
      "source": [
        "* What does `value_counts` of `toss_decision` look like?\n",
        "* Do those values add up to `746`?\n",
        "* What can you conclude from that?"
      ],
      "metadata": {
        "id": "JZee_QDzUXFv"
      }
    },
    {
      "cell_type": "code",
      "source": [
        ""
      ],
      "metadata": {
        "id": "xTIFe5MwUfLu"
      },
      "execution_count": null,
      "outputs": []
    },
    {
      "cell_type": "markdown",
      "source": [
        "* Get rows 5-100 using head and tail functions and perform a descirbe()\n",
        "\n",
        "* How many matches have first innings batters won?\n"
      ],
      "metadata": {
        "id": "pnaAATr-9hPU"
      }
    },
    {
      "cell_type": "code",
      "source": [
        ""
      ],
      "metadata": {
        "id": "z74A-JOr-BTa"
      },
      "execution_count": null,
      "outputs": []
    },
    {
      "cell_type": "markdown",
      "source": [
        "* Get rows 50-200 using `head` and `tail` functions and perform a `describe()`\n",
        "\n",
        "* Find value counts of `result`?\n"
      ],
      "metadata": {
        "id": "vRL5mEHK91Od"
      }
    },
    {
      "cell_type": "markdown",
      "source": [
        "## Selection operations\n",
        "\n",
        "#### Lets go back to lists in python"
      ],
      "metadata": {
        "id": "10c08-NnLRAE"
      }
    },
    {
      "cell_type": "code",
      "source": [
        "l = [0,1,2,3,4,5,6,7,8,9,10]\n",
        "l\n"
      ],
      "metadata": {
        "id": "b3ra1mGGLQin"
      },
      "execution_count": null,
      "outputs": []
    },
    {
      "cell_type": "code",
      "source": [
        "l[1:4]"
      ],
      "metadata": {
        "id": "M4YCCEhH-d3T"
      },
      "execution_count": null,
      "outputs": []
    },
    {
      "cell_type": "code",
      "source": [
        "l[:5]"
      ],
      "metadata": {
        "id": "rBFYwBaS-gZE"
      },
      "execution_count": null,
      "outputs": []
    },
    {
      "cell_type": "code",
      "source": [
        "l[6:]"
      ],
      "metadata": {
        "id": "8RCEp9Wh-iyV"
      },
      "execution_count": null,
      "outputs": []
    },
    {
      "cell_type": "markdown",
      "source": [
        "#### Your turn\n",
        "Try getting an output of `[7,8,9]` using both first and last index"
      ],
      "metadata": {
        "id": "Xq2Vb0DaMf4X"
      }
    },
    {
      "cell_type": "code",
      "source": [
        ""
      ],
      "metadata": {
        "id": "CmUJcQN9MfId"
      },
      "execution_count": null,
      "outputs": []
    },
    {
      "cell_type": "markdown",
      "source": [
        "Try getting the output `[8,9,10]` using only first index"
      ],
      "metadata": {
        "id": "I82ClXoBMxrs"
      }
    },
    {
      "cell_type": "code",
      "source": [
        ""
      ],
      "metadata": {
        "id": "xPQSb8zvM7qJ"
      },
      "execution_count": null,
      "outputs": []
    },
    {
      "cell_type": "markdown",
      "source": [
        "Try getting the output `[1,2,3,4,5]` using only last index"
      ],
      "metadata": {
        "id": "u7waQnJ8M81s"
      }
    },
    {
      "cell_type": "code",
      "source": [
        ""
      ],
      "metadata": {
        "id": "DeUmXqksM8Nz"
      },
      "execution_count": null,
      "outputs": []
    },
    {
      "cell_type": "markdown",
      "source": [
        "Get all elements but use slicing"
      ],
      "metadata": {
        "id": "VGz_oVgC_LZt"
      }
    },
    {
      "cell_type": "code",
      "source": [
        ""
      ],
      "metadata": {
        "id": "qtjMUz0B_Ksi"
      },
      "execution_count": null,
      "outputs": []
    },
    {
      "cell_type": "markdown",
      "source": [
        "#### Back to pandas\n",
        "\n",
        "Head and tail operations are good but can we have more control?\n",
        "\n",
        "Yes. `iloc`"
      ],
      "metadata": {
        "id": "gJfBlvuDNdxr"
      }
    },
    {
      "cell_type": "code",
      "source": [
        "df.iloc[4:6, 2:9]"
      ],
      "metadata": {
        "id": "eae3pMU5xmE1"
      },
      "execution_count": null,
      "outputs": []
    },
    {
      "cell_type": "code",
      "source": [
        "df.iloc[[4, 6, 7],:]"
      ],
      "metadata": {
        "id": "1FhzF6ut_aOa"
      },
      "execution_count": null,
      "outputs": []
    },
    {
      "cell_type": "markdown",
      "source": [
        "* Get rows 100 to 200 with columns 1 to 5"
      ],
      "metadata": {
        "id": "ytTQfq4k_k9i"
      }
    },
    {
      "cell_type": "code",
      "source": [
        ""
      ],
      "metadata": {
        "id": "f9J1kTLe_kaR"
      },
      "execution_count": null,
      "outputs": []
    },
    {
      "cell_type": "markdown",
      "source": [
        "* Get all rows with only columns 2,5"
      ],
      "metadata": {
        "id": "a0WqOuJ0_tl6"
      }
    },
    {
      "cell_type": "code",
      "source": [
        ""
      ],
      "metadata": {
        "id": "mUq2GcYj_yLc"
      },
      "execution_count": null,
      "outputs": []
    },
    {
      "cell_type": "markdown",
      "source": [
        "* Get last 5 columns with 8,100,201 rows"
      ],
      "metadata": {
        "id": "faIP-AI6_xog"
      }
    },
    {
      "cell_type": "code",
      "source": [
        ""
      ],
      "metadata": {
        "id": "vEDuCKjaz7az"
      },
      "execution_count": null,
      "outputs": []
    },
    {
      "cell_type": "markdown",
      "source": [
        "* Get rows 5-100 using iloc functions and perform a describe()\n",
        "\n",
        "* How many matches have first innings batters lost?\n"
      ],
      "metadata": {
        "id": "KzuYAf_8AH21"
      }
    },
    {
      "cell_type": "code",
      "source": [
        ""
      ],
      "metadata": {
        "id": "UnrSzXl7AQ-e"
      },
      "execution_count": null,
      "outputs": []
    },
    {
      "cell_type": "markdown",
      "source": [
        "* Get rows 50-200 using iloc functions and perform a describe()\n",
        "\n",
        "* Find value counts of toss_decision?"
      ],
      "metadata": {
        "id": "IDJhxGdLAVny"
      }
    },
    {
      "cell_type": "code",
      "source": [
        ""
      ],
      "metadata": {
        "id": "GGBxUo6tAexa"
      },
      "execution_count": null,
      "outputs": []
    },
    {
      "cell_type": "markdown",
      "source": [
        "## What if I want to select columns by name not index"
      ],
      "metadata": {
        "id": "GlodCWQlAyey"
      }
    },
    {
      "cell_type": "markdown",
      "source": [
        "### Basic indexing"
      ],
      "metadata": {
        "id": "s4LDgJytBAQF"
      }
    },
    {
      "cell_type": "code",
      "source": [
        "df[ [\"winner\", \"date\", \"city\"] ]"
      ],
      "metadata": {
        "id": "6MDo1e_oA4Tt"
      },
      "execution_count": null,
      "outputs": []
    },
    {
      "cell_type": "markdown",
      "source": [
        "### Using loc"
      ],
      "metadata": {
        "id": "p3p92k2mA_ju"
      }
    },
    {
      "cell_type": "code",
      "source": [
        "df.loc[1:10, [\"city\", \"date\"]]"
      ],
      "metadata": {
        "id": "QNULa4FcBGNi"
      },
      "execution_count": null,
      "outputs": []
    },
    {
      "cell_type": "markdown",
      "source": [
        "# Update data example"
      ],
      "metadata": {
        "id": "2y2yGTBB9Wut"
      }
    },
    {
      "cell_type": "code",
      "source": [
        ""
      ],
      "metadata": {
        "id": "B_qR_yHeCxCZ"
      },
      "execution_count": null,
      "outputs": []
    },
    {
      "cell_type": "markdown",
      "source": [
        "## Do it yourself\n",
        "\n",
        "Use index access to get the columns \n",
        "\n",
        "```\n",
        "['win_by_runs', 'win_by_wickets']\n",
        "```"
      ],
      "metadata": {
        "id": "1zAJpvt9BOg5"
      }
    },
    {
      "cell_type": "code",
      "source": [
        ""
      ],
      "metadata": {
        "id": "SkvVVP7nBTu_"
      },
      "execution_count": null,
      "outputs": []
    },
    {
      "cell_type": "markdown",
      "source": [
        "Use `loc` to get first 100 rows with columns\n",
        "\n",
        "```\n",
        "['win_by_runs', 'win_by_wickets']\n",
        "```\n",
        "perform a describe()?\n",
        "\n",
        "Somethings is different in the output, what is it? and why?\n"
      ],
      "metadata": {
        "id": "odX8AEqVBqjZ"
      }
    },
    {
      "cell_type": "code",
      "source": [
        ""
      ],
      "metadata": {
        "id": "sT49HGqPB8Hc"
      },
      "execution_count": null,
      "outputs": []
    },
    {
      "cell_type": "markdown",
      "source": [
        "### Quick summary\n",
        "\n",
        "* Load data into pandas\n",
        "* `head()`, `tail()` which help you look at data\n",
        "* `describe()` which gives info about the data frame\n",
        "* Accessing a single column\n",
        "* Getting insights from a single columns\n",
        "* Using iloc and loc functions"
      ],
      "metadata": {
        "id": "htAl1w1r1MwD"
      }
    },
    {
      "cell_type": "markdown",
      "source": [
        "---\n",
        "\n",
        "\n",
        "\n",
        "---\n",
        "\n",
        "\n",
        "\n",
        "\n",
        "# Break Time\n",
        "\n",
        "![Break](https://assets.website-files.com/5876c7374691a7d805ce8d19/5f485e12cc612bf82c5ca433_shutterstock_792140977-p-1600.jpeg)"
      ],
      "metadata": {
        "id": "1HE02NJeCY8R"
      }
    },
    {
      "cell_type": "code",
      "source": [
        ""
      ],
      "metadata": {
        "id": "3xYc60q4Cg1h"
      },
      "execution_count": null,
      "outputs": []
    }
  ]
}