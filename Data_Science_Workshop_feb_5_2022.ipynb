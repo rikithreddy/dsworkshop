{
  "nbformat": 4,
  "nbformat_minor": 0,
  "metadata": {
    "colab": {
      "name": "Data Science Workshop.ipynb",
      "provenance": [],
      "collapsed_sections": [],
      "authorship_tag": "ABX9TyM+MEDFx8QyT40HIey9+RG5",
      "include_colab_link": true
    },
    "kernelspec": {
      "name": "python3",
      "display_name": "Python 3"
    },
    "language_info": {
      "name": "python"
    }
  },
  "cells": [
    {
      "cell_type": "markdown",
      "metadata": {
        "id": "view-in-github",
        "colab_type": "text"
      },
      "source": [
        "<a href=\"https://colab.research.google.com/github/rikithreddy/dsworkshop/blob/main/Data_Science_Workshop_feb_5_2022.ipynb\" target=\"_parent\"><img src=\"https://colab.research.google.com/assets/colab-badge.svg\" alt=\"Open In Colab\"/></a>"
      ]
    },
    {
      "cell_type": "markdown",
      "source": [
        "# Welcome to google colab\n",
        "\n",
        "Some interesting features:\n",
        "* Comment and Share it really quick!\n",
        "* Free resources!\n",
        "* Mounting gdrive to access your files!\n",
        "* Text and code in the same place!\n",
        "\n",
        "\n",
        "---\n",
        "\n"
      ],
      "metadata": {
        "id": "TLQPkLAawIdm"
      }
    },
    {
      "cell_type": "markdown",
      "source": [
        "# Basics of google colab"
      ],
      "metadata": {
        "id": "1Jls91ik1y4o"
      }
    },
    {
      "cell_type": "markdown",
      "source": [
        "## Text and code cells?\n",
        "**This is a text cell**\n",
        "\n",
        "Hello whats up\n",
        "\n",
        "```python\n",
        "a = 1\n",
        "print(1)\n",
        "```"
      ],
      "metadata": {
        "id": "TmATzO7pxnpq"
      }
    },
    {
      "cell_type": "code",
      "source": [
        "# This is a code cell\n",
        "a = 1\n",
        "print(a)"
      ],
      "metadata": {
        "colab": {
          "base_uri": "https://localhost:8080/"
        },
        "id": "W2AcKnbAxToB",
        "outputId": "9876dcd5-df79-40b1-ff0f-f2e9fc98bd19"
      },
      "execution_count": 1,
      "outputs": [
        {
          "output_type": "stream",
          "name": "stdout",
          "text": [
            "1\n"
          ]
        }
      ]
    },
    {
      "cell_type": "markdown",
      "source": [
        "## Prints are not needed in most of the cases"
      ],
      "metadata": {
        "id": "qY6g9qqj1dkM"
      }
    },
    {
      "cell_type": "code",
      "source": [
        "print(123)"
      ],
      "metadata": {
        "colab": {
          "base_uri": "https://localhost:8080/"
        },
        "id": "ugIAjW4v1bTJ",
        "outputId": "1d7e3f43-b850-4e7b-eabb-c83c6835b077"
      },
      "execution_count": 12,
      "outputs": [
        {
          "output_type": "stream",
          "name": "stdout",
          "text": [
            "123\n"
          ]
        }
      ]
    },
    {
      "cell_type": "markdown",
      "source": [
        "## Try it yourself\n",
        "Write some basic python code and get a feel of your notebook."
      ],
      "metadata": {
        "id": "Q5R_-5lfySlx"
      }
    },
    {
      "cell_type": "code",
      "source": [
        "# Write some python code here :)\n",
        "print('hello world')"
      ],
      "metadata": {
        "colab": {
          "base_uri": "https://localhost:8080/"
        },
        "id": "VpsZDu69yYpK",
        "outputId": "f2fe0f0c-c4f7-49d4-e8d9-8f885a01abfd"
      },
      "execution_count": 5,
      "outputs": [
        {
          "output_type": "stream",
          "name": "stdout",
          "text": [
            "hello world\n",
            "15\n"
          ]
        }
      ]
    },
    {
      "cell_type": "markdown",
      "source": [
        "## Pro Tip\n",
        "Sticking to good practices, always run cells in order."
      ],
      "metadata": {
        "id": "G58BLvtZyrFt"
      }
    },
    {
      "cell_type": "markdown",
      "source": [
        "# Data & Python!\n",
        "```\n",
        "What is data?\n",
        "Where is data?\n",
        "Who is data?\n",
        "```\n",
        "\n",
        "* Spreadsheets\n",
        "* API calls\n",
        "* JSON files\n",
        "* CSV files\n",
        "* YAML files\n",
        "* SQL database\n",
        "\n",
        "\n",
        "## That's ok but how do I get this data to python?\n",
        "\n",
        "Using **pandas**\n",
        "\n",
        "![pandas](http://4.bp.blogspot.com/-JYiKvzQgg4g/UQFnLfJR6UI/AAAAAAAAEVU/EnPgdxrRHXs/s1600/Panda-info-and+images+07.jpg)"
      ],
      "metadata": {
        "id": "XDK9yyKA3YkX"
      }
    },
    {
      "cell_type": "markdown",
      "source": [
        "## Pandas\n",
        "\n",
        "### Official definition\n",
        "```\n",
        "Pandas is a fast, powerful, flexible and easy to use open source data analysis and manipulation tool,\n",
        "built on top of the Python programming language.\n",
        "```\n",
        "\n",
        "### Layman's definition\n",
        "```\n",
        "Python object which can perform everything your Excel spreadsheet can.\n",
        "```\n",
        "\n",
        "## Code examples"
      ],
      "metadata": {
        "id": "eKcknoOi2f-L"
      }
    },
    {
      "cell_type": "code",
      "source": [
        ""
      ],
      "metadata": {
        "id": "K5qExmIm2j5a"
      },
      "execution_count": null,
      "outputs": []
    },
    {
      "cell_type": "markdown",
      "source": [
        "# Protip!\n",
        "Colab supports multiple data inputs\n",
        "\n",
        "You can mount gdrive, load from existing google sheets, also upload your own dataset."
      ],
      "metadata": {
        "id": "_k8nfa0nsGNs"
      }
    },
    {
      "cell_type": "code",
      "source": [
        "df.describe()\n",
        "\n",
        "# Ask a question\n",
        "# Answer it with data?\n",
        "# Go back and re-verify if it was right\n"
      ],
      "metadata": {
        "colab": {
          "base_uri": "https://localhost:8080/"
        },
        "id": "eae3pMU5xmE1",
        "outputId": "a35a310a-102e-4e06-9352-00d479b9fa11"
      },
      "execution_count": 26,
      "outputs": [
        {
          "output_type": "execute_result",
          "data": {
            "text/plain": [
              "array([nan, 'no result', 'tie'], dtype=object)"
            ]
          },
          "metadata": {},
          "execution_count": 26
        }
      ]
    },
    {
      "cell_type": "code",
      "source": [
        "# 336 first batting won\n",
        "# 398 second batting won\n",
        "# 12 matches was a draw\n",
        "746 - 336 - 398"
      ],
      "metadata": {
        "colab": {
          "base_uri": "https://localhost:8080/"
        },
        "id": "vEDuCKjaz7az",
        "outputId": "416e000e-a7ba-44f7-b59e-fa8176631f0e"
      },
      "execution_count": 25,
      "outputs": [
        {
          "output_type": "execute_result",
          "data": {
            "text/plain": [
              "12"
            ]
          },
          "metadata": {},
          "execution_count": 25
        }
      ]
    },
    {
      "cell_type": "code",
      "source": [
        "df.dl_applied.unique()"
      ],
      "metadata": {
        "colab": {
          "base_uri": "https://localhost:8080/"
        },
        "id": "SqQt0kly0OLY",
        "outputId": "894290d7-0b33-4500-df04-8ac9a9d92287"
      },
      "execution_count": 33,
      "outputs": [
        {
          "output_type": "execute_result",
          "data": {
            "text/plain": [
              "array([nan, 'D/L'], dtype=object)"
            ]
          },
          "metadata": {},
          "execution_count": 33
        }
      ]
    },
    {
      "cell_type": "code",
      "source": [
        "df.result.value_counts()"
      ],
      "metadata": {
        "colab": {
          "base_uri": "https://localhost:8080/"
        },
        "id": "bsYe7rnh0g33",
        "outputId": "be2b58a0-4f2b-4f56-975d-ed6cd6c3b0e0"
      },
      "execution_count": 32,
      "outputs": [
        {
          "output_type": "execute_result",
          "data": {
            "text/plain": [
              "tie          8\n",
              "no result    4\n",
              "Name: result, dtype: int64"
            ]
          },
          "metadata": {},
          "execution_count": 32
        }
      ]
    },
    {
      "cell_type": "markdown",
      "source": [
        "Quick summary\n",
        "\n",
        "* Load data into pandas\n",
        "* `head()`, `tail()` which help you look at data\n",
        "* `describe()` which gives info about the data frame\n",
        "* Accessing a single column\n",
        "* Getting insights from a single columns"
      ],
      "metadata": {
        "id": "htAl1w1r1MwD"
      }
    },
    {
      "cell_type": "code",
      "source": [
        "from google.colab import drive\n",
        "drive.mount('/content/drive')"
      ],
      "metadata": {
        "id": "VxJ7jx9lwcnB"
      },
      "execution_count": null,
      "outputs": []
    }
  ]
}