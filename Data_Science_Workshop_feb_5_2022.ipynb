{
  "nbformat": 4,
  "nbformat_minor": 0,
  "metadata": {
    "colab": {
      "name": "Data Science Workshop.ipynb",
      "provenance": [],
      "collapsed_sections": [],
      "authorship_tag": "ABX9TyNmy5uqPgPoiFcG4x2pf1n8",
      "include_colab_link": true
    },
    "kernelspec": {
      "name": "python3",
      "display_name": "Python 3"
    },
    "language_info": {
      "name": "python"
    }
  },
  "cells": [
    {
      "cell_type": "markdown",
      "metadata": {
        "id": "view-in-github",
        "colab_type": "text"
      },
      "source": [
        "<a href=\"https://colab.research.google.com/github/rikithreddy/dsworkshop/blob/main/Data_Science_Workshop_feb_5_2022.ipynb\" target=\"_parent\"><img src=\"https://colab.research.google.com/assets/colab-badge.svg\" alt=\"Open In Colab\"/></a>"
      ]
    },
    {
      "cell_type": "markdown",
      "source": [
        "# Protip!\n",
        "Colab supports multiple data inputs\n",
        "\n",
        "You can mount gdrive, load from existing google sheets, also upload your own dataset."
      ],
      "metadata": {
        "id": "_k8nfa0nsGNs"
      }
    },
    {
      "cell_type": "code",
      "source": [
        "df.describe()\n",
        "\n",
        "# Ask a question\n",
        "# Answer it with data?\n",
        "# Go back and re-verify if it was right\n"
      ],
      "metadata": {
        "colab": {
          "base_uri": "https://localhost:8080/"
        },
        "id": "eae3pMU5xmE1",
        "outputId": "a35a310a-102e-4e06-9352-00d479b9fa11"
      },
      "execution_count": 26,
      "outputs": [
        {
          "output_type": "execute_result",
          "data": {
            "text/plain": [
              "array([nan, 'no result', 'tie'], dtype=object)"
            ]
          },
          "metadata": {},
          "execution_count": 26
        }
      ]
    },
    {
      "cell_type": "code",
      "source": [
        "# 336 first batting won\n",
        "# 398 second batting won\n",
        "# 12 matches was a draw\n",
        "746 - 336 - 398"
      ],
      "metadata": {
        "colab": {
          "base_uri": "https://localhost:8080/"
        },
        "id": "vEDuCKjaz7az",
        "outputId": "416e000e-a7ba-44f7-b59e-fa8176631f0e"
      },
      "execution_count": 25,
      "outputs": [
        {
          "output_type": "execute_result",
          "data": {
            "text/plain": [
              "12"
            ]
          },
          "metadata": {},
          "execution_count": 25
        }
      ]
    },
    {
      "cell_type": "code",
      "source": [
        "df.dl_applied.unique()"
      ],
      "metadata": {
        "colab": {
          "base_uri": "https://localhost:8080/"
        },
        "id": "SqQt0kly0OLY",
        "outputId": "894290d7-0b33-4500-df04-8ac9a9d92287"
      },
      "execution_count": 33,
      "outputs": [
        {
          "output_type": "execute_result",
          "data": {
            "text/plain": [
              "array([nan, 'D/L'], dtype=object)"
            ]
          },
          "metadata": {},
          "execution_count": 33
        }
      ]
    },
    {
      "cell_type": "code",
      "source": [
        "df.result.value_counts()"
      ],
      "metadata": {
        "colab": {
          "base_uri": "https://localhost:8080/"
        },
        "id": "bsYe7rnh0g33",
        "outputId": "be2b58a0-4f2b-4f56-975d-ed6cd6c3b0e0"
      },
      "execution_count": 32,
      "outputs": [
        {
          "output_type": "execute_result",
          "data": {
            "text/plain": [
              "tie          8\n",
              "no result    4\n",
              "Name: result, dtype: int64"
            ]
          },
          "metadata": {},
          "execution_count": 32
        }
      ]
    },
    {
      "cell_type": "markdown",
      "source": [
        "Quick summary\n",
        "\n",
        "* Load data into pandas\n",
        "* `head()`, `tail()` which help you look at data\n",
        "* `describe()` which gives info about the data frame\n",
        "* Accessing a single column\n",
        "* Getting insights from a single columns"
      ],
      "metadata": {
        "id": "htAl1w1r1MwD"
      }
    }
  ]
}