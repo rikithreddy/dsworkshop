{
  "nbformat": 4,
  "nbformat_minor": 0,
  "metadata": {
    "colab": {
      "name": "Data Science Workshop.ipynb",
      "provenance": [],
      "collapsed_sections": [],
      "authorship_tag": "ABX9TyO+xxfEMpoQPqO51JP+dweM",
      "include_colab_link": true
    },
    "kernelspec": {
      "name": "python3",
      "display_name": "Python 3"
    },
    "language_info": {
      "name": "python"
    }
  },
  "cells": [
    {
      "cell_type": "markdown",
      "metadata": {
        "id": "view-in-github",
        "colab_type": "text"
      },
      "source": [
        "<a href=\"https://colab.research.google.com/github/rikithreddy/dsworkshop/blob/main/Data_Science_Workshop_feb_5_2022.ipynb\" target=\"_parent\"><img src=\"https://colab.research.google.com/assets/colab-badge.svg\" alt=\"Open In Colab\"/></a>"
      ]
    },
    {
      "cell_type": "markdown",
      "source": [
        "# Welcome to google colab\n",
        "\n",
        "Some interesting features:\n",
        "* Comment and Share it really quick!\n",
        "* Free resources!\n",
        "* Mounting gdrive to access your files!\n",
        "* Text and code in the same place!\n",
        "\n",
        "\n",
        "---\n",
        "\n"
      ],
      "metadata": {
        "id": "TLQPkLAawIdm"
      }
    },
    {
      "cell_type": "markdown",
      "source": [
        "# Basics of google colab"
      ],
      "metadata": {
        "id": "1Jls91ik1y4o"
      }
    },
    {
      "cell_type": "markdown",
      "source": [
        "## Text and code cells?\n",
        "**This is a text cell**\n",
        "\n",
        "Hello whats up\n",
        "\n",
        "```python\n",
        "a = 1\n",
        "print(1)\n",
        "```"
      ],
      "metadata": {
        "id": "TmATzO7pxnpq"
      }
    },
    {
      "cell_type": "code",
      "source": [
        "# This is a code cell\n",
        "a = 1\n",
        "print(a)"
      ],
      "metadata": {
        "id": "W2AcKnbAxToB"
      },
      "execution_count": null,
      "outputs": []
    },
    {
      "cell_type": "markdown",
      "source": [
        "## Prints are not needed in most of the cases"
      ],
      "metadata": {
        "id": "qY6g9qqj1dkM"
      }
    },
    {
      "cell_type": "code",
      "source": [
        "print(123)"
      ],
      "metadata": {
        "id": "ugIAjW4v1bTJ"
      },
      "execution_count": null,
      "outputs": []
    },
    {
      "cell_type": "markdown",
      "source": [
        "## Try it yourself\n",
        "Write some basic python code and get a feel of your notebook."
      ],
      "metadata": {
        "id": "Q5R_-5lfySlx"
      }
    },
    {
      "cell_type": "code",
      "source": [
        "# Write some python code here :)\n",
        "print('hello world')"
      ],
      "metadata": {
        "id": "VpsZDu69yYpK"
      },
      "execution_count": null,
      "outputs": []
    },
    {
      "cell_type": "markdown",
      "source": [
        "## Pro Tip\n",
        "Sticking to good practices, always run cells in order."
      ],
      "metadata": {
        "id": "G58BLvtZyrFt"
      }
    },
    {
      "cell_type": "markdown",
      "source": [
        "# Data & Python!\n",
        "```\n",
        "What is data?\n",
        "Where is data?\n",
        "Who is data?\n",
        "```\n",
        "\n",
        "* Spreadsheets\n",
        "* API calls\n",
        "* JSON files\n",
        "* CSV files\n",
        "* YAML files\n",
        "* SQL database\n",
        "\n",
        "\n",
        "## That's ok but how do I get this data to python?\n",
        "\n",
        "Using **pandas**\n",
        "\n",
        "![pandas](http://4.bp.blogspot.com/-JYiKvzQgg4g/UQFnLfJR6UI/AAAAAAAAEVU/EnPgdxrRHXs/s1600/Panda-info-and+images+07.jpg)"
      ],
      "metadata": {
        "id": "XDK9yyKA3YkX"
      }
    },
    {
      "cell_type": "markdown",
      "source": [
        "## Pandas\n",
        "\n",
        "### Official definition\n",
        "```\n",
        "Pandas is a fast, powerful, flexible and easy to use open source data analysis and manipulation tool,\n",
        "built on top of the Python programming language.\n",
        "```\n",
        "\n",
        "### Layman's definition\n",
        "```\n",
        "Python object which can perform everything your Excel spreadsheet can.\n",
        "```\n",
        "\n",
        "## Code examples\n",
        "\n",
        "Let's load this data\n",
        "\n",
        "https://raw.githubusercontent.com/PyDataPune/Code-and-Coffee-2/master/matches.csv\n",
        "\n",
        "**Data Credits**: [Mayank Mishra](https://github.com/mayankskb) (*pydata:Pune*)"
      ],
      "metadata": {
        "id": "eKcknoOi2f-L"
      }
    },
    {
      "cell_type": "code",
      "source": [
        "import pandas as pd\n",
        "\n",
        "df = pd.read_csv(\"https://raw.githubusercontent.com/PyDataPune/Code-and-Coffee-2/master/matches.csv\")\n",
        "df"
      ],
      "metadata": {
        "id": "K5qExmIm2j5a"
      },
      "execution_count": null,
      "outputs": []
    },
    {
      "cell_type": "markdown",
      "source": [
        "# Head and Tail functions"
      ],
      "metadata": {
        "id": "RILJLvIkOina"
      }
    },
    {
      "cell_type": "code",
      "source": [
        "df.tail(3)"
      ],
      "metadata": {
        "id": "D8_ZZ5a8Olcr"
      },
      "execution_count": null,
      "outputs": []
    },
    {
      "cell_type": "markdown",
      "source": [
        "### Do it yourself\n",
        "\n",
        "Get first 0 rows"
      ],
      "metadata": {
        "id": "oC0AD61JO1O2"
      }
    },
    {
      "cell_type": "code",
      "source": [
        ""
      ],
      "metadata": {
        "id": "lCsQlrU8O8xI"
      },
      "execution_count": null,
      "outputs": []
    },
    {
      "cell_type": "markdown",
      "source": [
        "Get last 747 rows\n",
        "Note the dataframe just has 746 rows"
      ],
      "metadata": {
        "id": "Nxy-5oWoPAtQ"
      }
    },
    {
      "cell_type": "code",
      "source": [
        ""
      ],
      "metadata": {
        "id": "aW6U4W4_PADY"
      },
      "execution_count": null,
      "outputs": []
    },
    {
      "cell_type": "markdown",
      "source": [
        "## Basic exploration"
      ],
      "metadata": {
        "id": "NRkrYrN8NjhE"
      }
    },
    {
      "cell_type": "code",
      "source": [
        "df.describe()"
      ],
      "metadata": {
        "id": "orFQJr69NwIi"
      },
      "execution_count": null,
      "outputs": []
    },
    {
      "cell_type": "markdown",
      "source": [
        "## Counting matches"
      ],
      "metadata": {
        "id": "T1iGBTHkTB3y"
      }
    },
    {
      "cell_type": "code",
      "source": [
        "df.result.unique()"
      ],
      "metadata": {
        "id": "nq-_CpXtSgtI"
      },
      "execution_count": null,
      "outputs": []
    },
    {
      "cell_type": "code",
      "source": [
        "df.result.value_counts()"
      ],
      "metadata": {
        "id": "GLFJ3X0uSs4p"
      },
      "execution_count": null,
      "outputs": []
    },
    {
      "cell_type": "markdown",
      "source": [
        "## Your turn\n",
        "\n",
        "* What are the unique values of `toss_decision`"
      ],
      "metadata": {
        "id": "aKNaCQ7iUHaE"
      }
    },
    {
      "cell_type": "code",
      "source": [
        ""
      ],
      "metadata": {
        "id": "jMIxjnP3UM9_"
      },
      "execution_count": null,
      "outputs": []
    },
    {
      "cell_type": "markdown",
      "source": [
        "* What does `value_counts` of `toss_decision` look like?\n",
        "* Do those values add up to `746`?\n",
        "* What can you conclude from that?"
      ],
      "metadata": {
        "id": "JZee_QDzUXFv"
      }
    },
    {
      "cell_type": "code",
      "source": [
        ""
      ],
      "metadata": {
        "id": "xTIFe5MwUfLu"
      },
      "execution_count": null,
      "outputs": []
    },
    {
      "cell_type": "markdown",
      "source": [
        "## Let's do everything we learnt at once"
      ],
      "metadata": {
        "id": "LWnp8g-cV5wJ"
      }
    },
    {
      "cell_type": "code",
      "source": [
        "# Create a temporary data frame\n",
        "temp_df = df.head(100)"
      ],
      "metadata": {
        "id": "nQrCtI06V-6O"
      },
      "execution_count": null,
      "outputs": []
    },
    {
      "cell_type": "code",
      "source": [
        "temp_df.describe()"
      ],
      "metadata": {
        "id": "8O8jEHhwWiSr"
      },
      "execution_count": null,
      "outputs": []
    },
    {
      "cell_type": "code",
      "source": [
        "temp_df.result.value_counts()"
      ],
      "metadata": {
        "id": "krDRkzTsWk0B"
      },
      "execution_count": null,
      "outputs": []
    },
    {
      "cell_type": "markdown",
      "source": [
        "### Your turn\n",
        "Can you get the `value_counts()` of `toss_decision` last 50 rows?\n"
      ],
      "metadata": {
        "id": "TNpaOmLAWqm5"
      }
    },
    {
      "cell_type": "code",
      "source": [
        ""
      ],
      "metadata": {
        "id": "izMeTiXzW9yk"
      },
      "execution_count": null,
      "outputs": []
    },
    {
      "cell_type": "markdown",
      "source": [
        "## Quick summary\n",
        "\n",
        "* Colab basics\n",
        "* Load data into pandas\n",
        "* head(), tail() which help you look at data\n",
        "* describe() which gives info about the data frame\n",
        "* Accessing a single column\n",
        "* Getting insights from a single columns\n",
        "\n",
        "\n"
      ],
      "metadata": {
        "id": "jSY9bg0FVXR0"
      }
    },
    {
      "cell_type": "markdown",
      "source": [
        "## Selection operations\n",
        "\n",
        "#### Lets go back to lists in python"
      ],
      "metadata": {
        "id": "10c08-NnLRAE"
      }
    },
    {
      "cell_type": "code",
      "source": [
        ""
      ],
      "metadata": {
        "id": "2aLZcCUDjt5F"
      },
      "execution_count": null,
      "outputs": []
    },
    {
      "cell_type": "code",
      "source": [
        "_ = df.win_by_wickets.hist(bins=10)"
      ],
      "metadata": {
        "id": "ZnTkKTaGYM9I"
      },
      "execution_count": null,
      "outputs": []
    },
    {
      "cell_type": "code",
      "source": [
        "l = [0,1,2,3,4,5,6,7,8,9,10]\n"
      ],
      "metadata": {
        "id": "b3ra1mGGLQin"
      },
      "execution_count": null,
      "outputs": []
    },
    {
      "cell_type": "markdown",
      "source": [
        "#### Your turn\n",
        "Try getting an output of `[7,8,9]` using both first and last index"
      ],
      "metadata": {
        "id": "Xq2Vb0DaMf4X"
      }
    },
    {
      "cell_type": "code",
      "source": [
        ""
      ],
      "metadata": {
        "id": "CmUJcQN9MfId"
      },
      "execution_count": null,
      "outputs": []
    },
    {
      "cell_type": "markdown",
      "source": [
        "Try getting the output `[8,9,10]` using only first index"
      ],
      "metadata": {
        "id": "I82ClXoBMxrs"
      }
    },
    {
      "cell_type": "code",
      "source": [
        ""
      ],
      "metadata": {
        "id": "xPQSb8zvM7qJ"
      },
      "execution_count": null,
      "outputs": []
    },
    {
      "cell_type": "markdown",
      "source": [
        "Try getting the output `[1,2,3,4,5]` using only last index"
      ],
      "metadata": {
        "id": "u7waQnJ8M81s"
      }
    },
    {
      "cell_type": "code",
      "source": [
        ""
      ],
      "metadata": {
        "id": "DeUmXqksM8Nz"
      },
      "execution_count": null,
      "outputs": []
    },
    {
      "cell_type": "markdown",
      "source": [
        "#### Back to pandas basic selection tools\n",
        "`loc`, `iloc`, `update example`"
      ],
      "metadata": {
        "id": "gJfBlvuDNdxr"
      }
    },
    {
      "cell_type": "code",
      "source": [
        ""
      ],
      "metadata": {
        "id": "eae3pMU5xmE1"
      },
      "execution_count": null,
      "outputs": []
    },
    {
      "cell_type": "markdown",
      "source": [
        "# Filtering\n",
        "\n",
        "```iloc vs query```"
      ],
      "metadata": {
        "id": "Ga1J_lrde9BZ"
      }
    },
    {
      "cell_type": "markdown",
      "source": [
        "# Group by\n",
        "\n",
        "Which city had the highest number of matches played?"
      ],
      "metadata": {
        "id": "qT6uXIKKdncB"
      }
    },
    {
      "cell_type": "code",
      "source": [
        "df.query('winner == \"Deccan Chargers\"').groupby([\"season\"])[['win_by_runs', 'win_by_wickets']].agg(['min', 'max', 'count'])#.id.reset_index().tail(10)#.sort_values(ascending=False)"
      ],
      "metadata": {
        "id": "j_Ce1Bvddmip"
      },
      "execution_count": null,
      "outputs": []
    },
    {
      "cell_type": "code",
      "source": [
        "# Your turn!"
      ],
      "metadata": {
        "id": "9RwGsE3Qg7Fw"
      },
      "execution_count": null,
      "outputs": []
    },
    {
      "cell_type": "code",
      "source": [
        "# 336 first batting won\n",
        "# 398 second batting won\n",
        "# 12 matches was a draw\n",
        "746 - 336 - 398"
      ],
      "metadata": {
        "id": "vEDuCKjaz7az"
      },
      "execution_count": null,
      "outputs": []
    },
    {
      "cell_type": "code",
      "source": [
        "df.dl_applied.unique()"
      ],
      "metadata": {
        "id": "SqQt0kly0OLY"
      },
      "execution_count": null,
      "outputs": []
    },
    {
      "cell_type": "code",
      "source": [
        "df.result.value_counts()"
      ],
      "metadata": {
        "id": "bsYe7rnh0g33"
      },
      "execution_count": null,
      "outputs": []
    },
    {
      "cell_type": "markdown",
      "source": [
        "# How many matches did team X win per year"
      ],
      "metadata": {
        "id": "2y2yGTBB9Wut"
      }
    },
    {
      "cell_type": "code",
      "source": [
        ""
      ],
      "metadata": {
        "id": "ZBzEFkXfY5dL"
      },
      "execution_count": null,
      "outputs": []
    },
    {
      "cell_type": "code",
      "source": [
        "import plotly.express as px\n",
        "\n",
        "small_list = ['Sunrisers Hyderabad', 'Chennai Super Kings', 'Deccan Chargers']\n",
        "win_summary_df = (\n",
        "    df.groupby([\"winner\", \"season\"])\n",
        "    .id\n",
        "    .count()\n",
        "    .reset_index()\n",
        "    .rename(columns = {'id':'matches_won'})\n",
        "    .query(\"winner in @small_list\")\n",
        ")\n",
        "win_summary_df"
      ],
      "metadata": {
        "id": "J9kr3P4NZ7Gp"
      },
      "execution_count": null,
      "outputs": []
    },
    {
      "cell_type": "code",
      "source": [
        "fig = px.line(win_summary_df, x=\"season\", y=\"matches_won\", color=\"winner\", title='Matches Won', text='season')\n",
        "fig.show()"
      ],
      "metadata": {
        "id": "W5dtU2lebMCA"
      },
      "execution_count": null,
      "outputs": []
    },
    {
      "cell_type": "markdown",
      "source": [
        "# Congrats on completing the workshop :) \n",
        "Please leave a feedback https://docs.google.com/forms/d/e/1FAIpQLSc8Rcl_vrq3ygnUKULbdkqm-FNlTSJT-FIUui9sJSX5pAQ4SQ/viewform?usp=sf_link"
      ],
      "metadata": {
        "id": "UA86cfteOyBi"
      }
    }
  ]
}